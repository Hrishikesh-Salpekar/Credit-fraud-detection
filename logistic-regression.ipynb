{
 "cells": [
  {
   "cell_type": "code",
   "execution_count": 2,
   "metadata": {},
   "outputs": [],
   "source": [
    "import numpy as np\n",
    "import sklearn as sk\n",
    "import pandas as pd\n",
    "import matplotlib.pyplot as plt\n",
    "from pandas_ml import ConfusionMatrix\n",
    "import pandas_ml as pdml\n",
    "from sklearn.preprocessing import scale\n",
    "import random"
   ]
  },
  {
   "cell_type": "code",
   "execution_count": 3,
   "metadata": {},
   "outputs": [
    {
     "data": {
      "text/html": [
       "<div>\n",
       "<style scoped>\n",
       "    .dataframe tbody tr th:only-of-type {\n",
       "        vertical-align: middle;\n",
       "    }\n",
       "\n",
       "    .dataframe tbody tr th {\n",
       "        vertical-align: top;\n",
       "    }\n",
       "\n",
       "    .dataframe thead th {\n",
       "        text-align: right;\n",
       "    }\n",
       "</style>\n",
       "<table border=\"1\" class=\"dataframe\">\n",
       "  <thead>\n",
       "    <tr style=\"text-align: right;\">\n",
       "      <th></th>\n",
       "      <th>Time</th>\n",
       "      <th>V1</th>\n",
       "      <th>V2</th>\n",
       "      <th>V3</th>\n",
       "      <th>V4</th>\n",
       "      <th>V5</th>\n",
       "      <th>V6</th>\n",
       "      <th>V7</th>\n",
       "      <th>V8</th>\n",
       "      <th>V9</th>\n",
       "      <th>...</th>\n",
       "      <th>V21</th>\n",
       "      <th>V22</th>\n",
       "      <th>V23</th>\n",
       "      <th>V24</th>\n",
       "      <th>V25</th>\n",
       "      <th>V26</th>\n",
       "      <th>V27</th>\n",
       "      <th>V28</th>\n",
       "      <th>Amount</th>\n",
       "      <th>Class</th>\n",
       "    </tr>\n",
       "  </thead>\n",
       "  <tbody>\n",
       "    <tr>\n",
       "      <th>0</th>\n",
       "      <td>137461.0</td>\n",
       "      <td>-8.306003</td>\n",
       "      <td>3.476622</td>\n",
       "      <td>-5.719648</td>\n",
       "      <td>-2.355750</td>\n",
       "      <td>0.115083</td>\n",
       "      <td>3.220268</td>\n",
       "      <td>0.203877</td>\n",
       "      <td>2.074125</td>\n",
       "      <td>4.326811</td>\n",
       "      <td>...</td>\n",
       "      <td>-1.427175</td>\n",
       "      <td>-1.190416</td>\n",
       "      <td>-0.517093</td>\n",
       "      <td>0.695963</td>\n",
       "      <td>0.510635</td>\n",
       "      <td>-0.043861</td>\n",
       "      <td>-0.367309</td>\n",
       "      <td>-0.245450</td>\n",
       "      <td>89.99</td>\n",
       "      <td>0</td>\n",
       "    </tr>\n",
       "    <tr>\n",
       "      <th>1</th>\n",
       "      <td>26781.0</td>\n",
       "      <td>-4.258460</td>\n",
       "      <td>4.732592</td>\n",
       "      <td>-1.822174</td>\n",
       "      <td>-0.253790</td>\n",
       "      <td>-0.328965</td>\n",
       "      <td>-0.964438</td>\n",
       "      <td>0.804594</td>\n",
       "      <td>0.050050</td>\n",
       "      <td>3.124953</td>\n",
       "      <td>...</td>\n",
       "      <td>-0.399021</td>\n",
       "      <td>0.357081</td>\n",
       "      <td>0.292715</td>\n",
       "      <td>0.028207</td>\n",
       "      <td>0.275601</td>\n",
       "      <td>-0.299998</td>\n",
       "      <td>2.547237</td>\n",
       "      <td>1.436274</td>\n",
       "      <td>1.79</td>\n",
       "      <td>0</td>\n",
       "    </tr>\n",
       "    <tr>\n",
       "      <th>2</th>\n",
       "      <td>96745.0</td>\n",
       "      <td>-3.421542</td>\n",
       "      <td>-3.329408</td>\n",
       "      <td>1.351898</td>\n",
       "      <td>0.572392</td>\n",
       "      <td>3.151252</td>\n",
       "      <td>-2.546831</td>\n",
       "      <td>-1.895510</td>\n",
       "      <td>-0.062868</td>\n",
       "      <td>2.246771</td>\n",
       "      <td>...</td>\n",
       "      <td>-0.011259</td>\n",
       "      <td>0.556045</td>\n",
       "      <td>-0.560193</td>\n",
       "      <td>-0.117244</td>\n",
       "      <td>-0.431460</td>\n",
       "      <td>-0.300893</td>\n",
       "      <td>0.555971</td>\n",
       "      <td>0.028417</td>\n",
       "      <td>150.00</td>\n",
       "      <td>0</td>\n",
       "    </tr>\n",
       "    <tr>\n",
       "      <th>3</th>\n",
       "      <td>75576.0</td>\n",
       "      <td>-1.789607</td>\n",
       "      <td>-0.084165</td>\n",
       "      <td>0.177868</td>\n",
       "      <td>0.489115</td>\n",
       "      <td>-0.337169</td>\n",
       "      <td>-0.738146</td>\n",
       "      <td>0.872926</td>\n",
       "      <td>0.083005</td>\n",
       "      <td>-0.494166</td>\n",
       "      <td>...</td>\n",
       "      <td>0.001052</td>\n",
       "      <td>0.517190</td>\n",
       "      <td>0.775105</td>\n",
       "      <td>0.593087</td>\n",
       "      <td>0.079656</td>\n",
       "      <td>0.318322</td>\n",
       "      <td>-0.372209</td>\n",
       "      <td>0.093478</td>\n",
       "      <td>143.75</td>\n",
       "      <td>0</td>\n",
       "    </tr>\n",
       "    <tr>\n",
       "      <th>4</th>\n",
       "      <td>43419.0</td>\n",
       "      <td>1.427157</td>\n",
       "      <td>-0.279882</td>\n",
       "      <td>-0.294539</td>\n",
       "      <td>-0.858603</td>\n",
       "      <td>-0.329932</td>\n",
       "      <td>-0.864006</td>\n",
       "      <td>-0.070960</td>\n",
       "      <td>-0.296698</td>\n",
       "      <td>-1.535303</td>\n",
       "      <td>...</td>\n",
       "      <td>0.232263</td>\n",
       "      <td>0.613804</td>\n",
       "      <td>-0.229635</td>\n",
       "      <td>0.084960</td>\n",
       "      <td>0.838847</td>\n",
       "      <td>-0.085841</td>\n",
       "      <td>-0.027128</td>\n",
       "      <td>-0.009187</td>\n",
       "      <td>15.00</td>\n",
       "      <td>0</td>\n",
       "    </tr>\n",
       "  </tbody>\n",
       "</table>\n",
       "<p>5 rows × 31 columns</p>\n",
       "</div>"
      ],
      "text/plain": [
       "       Time        V1        V2        V3        V4        V5        V6  \\\n",
       "0  137461.0 -8.306003  3.476622 -5.719648 -2.355750  0.115083  3.220268   \n",
       "1   26781.0 -4.258460  4.732592 -1.822174 -0.253790 -0.328965 -0.964438   \n",
       "2   96745.0 -3.421542 -3.329408  1.351898  0.572392  3.151252 -2.546831   \n",
       "3   75576.0 -1.789607 -0.084165  0.177868  0.489115 -0.337169 -0.738146   \n",
       "4   43419.0  1.427157 -0.279882 -0.294539 -0.858603 -0.329932 -0.864006   \n",
       "\n",
       "         V7        V8        V9  ...         V21       V22       V23  \\\n",
       "0  0.203877  2.074125  4.326811  ...   -1.427175 -1.190416 -0.517093   \n",
       "1  0.804594  0.050050  3.124953  ...   -0.399021  0.357081  0.292715   \n",
       "2 -1.895510 -0.062868  2.246771  ...   -0.011259  0.556045 -0.560193   \n",
       "3  0.872926  0.083005 -0.494166  ...    0.001052  0.517190  0.775105   \n",
       "4 -0.070960 -0.296698 -1.535303  ...    0.232263  0.613804 -0.229635   \n",
       "\n",
       "        V24       V25       V26       V27       V28  Amount  Class  \n",
       "0  0.695963  0.510635 -0.043861 -0.367309 -0.245450   89.99      0  \n",
       "1  0.028207  0.275601 -0.299998  2.547237  1.436274    1.79      0  \n",
       "2 -0.117244 -0.431460 -0.300893  0.555971  0.028417  150.00      0  \n",
       "3  0.593087  0.079656  0.318322 -0.372209  0.093478  143.75      0  \n",
       "4  0.084960  0.838847 -0.085841 -0.027128 -0.009187   15.00      0  \n",
       "\n",
       "[5 rows x 31 columns]"
      ]
     },
     "execution_count": 3,
     "metadata": {},
     "output_type": "execute_result"
    }
   ],
   "source": [
    "df = pd.read_csv('creditcard.csv', low_memory=False)\n",
    "df = df.sample(frac=1).reset_index(drop=True)\n",
    "df.head()"
   ]
  },
  {
   "cell_type": "code",
   "execution_count": 4,
   "metadata": {},
   "outputs": [
    {
     "name": "stdout",
     "output_type": "stream",
     "text": [
      "We have 492 fraud data points and 284315 nonfraudulent data points.\n"
     ]
    }
   ],
   "source": [
    "frauds = df.loc[df['Class'] == 1]\n",
    "non_frauds = df.loc[df['Class'] == 0]\n",
    "print(\"We have\", len(frauds), \"fraud data points and\", len(non_frauds), \"nonfraudulent data points.\")"
   ]
  },
  {
   "cell_type": "code",
   "execution_count": 5,
   "metadata": {},
   "outputs": [
    {
     "data": {
      "image/png": "[encoded data removed]",
      "text/plain": [
       "<matplotlib.figure.Figure at 0x1afd53dbd68>"
      ]
     },
     "metadata": {},
     "output_type": "display_data"
    },
    {
     "name": "stdout",
     "output_type": "stream",
     "text": [
      "This feature looks important based on their distribution with respect to class.\n"
     ]
    }
   ],
   "source": [
    "ax = frauds.plot.scatter(x='Amount', y='Class', color='Orange', label='Fraud')\n",
    "non_frauds.plot.scatter(x='Amount', y='Class', color='Blue', label='Normal', ax=ax)\n",
    "plt.show()\n",
    "print(\"This feature looks important based on their distribution with respect to class.\")\n"
   ]
  },
  {
   "cell_type": "code",
   "execution_count": 6,
   "metadata": {},
   "outputs": [
    {
     "data": {
      "image/png": "[encoded data removed]",
      "text/plain": [
       "<matplotlib.figure.Figure at 0x116bff9e8>"
      ]
     },
     "metadata": {},
     "output_type": "display_data"
    }
   ],
   "source": [
    "bx = frauds.plot.scatter(x='Amount', y='Class', color='Orange', label='Fraud')\n",
    "plt.show()"
   ]
  },
  {
   "cell_type": "code",
   "execution_count": 7,
   "metadata": {},
   "outputs": [
    {
     "data": {
      "image/png": "[encoded data removed]",
      "text/plain": [
       "<matplotlib.figure.Figure at 0x1121b25f8>"
      ]
     },
     "metadata": {},
     "output_type": "display_data"
    },
    {
     "name": "stdout",
     "output_type": "stream",
     "text": [
      "This feature may not be very important because of the similar distribution.\n"
     ]
    }
   ],
   "source": [
    "ax = frauds.plot.scatter(x='V22', y='Class', color='Orange', label='Fraud')\n",
    "non_frauds.plot.scatter(x='V22', y='Class', color='Blue', label='Normal', ax=ax)\n",
    "plt.show()\n",
    "print(\"This feature may not be very important because of the similar distribution.\")"
   ]
  },
  {
   "cell_type": "markdown",
   "metadata": {},
   "source": [
    "# Logistic Regression"
   ]
  },
  {
   "cell_type": "code",
   "execution_count": 8,
   "metadata": {
    "collapsed": true
   },
   "outputs": [],
   "source": [
    "from sklearn import datasets, linear_model\n",
    "from sklearn.preprocessing import PolynomialFeatures\n",
    "from sklearn.model_selection import train_test_split"
   ]
  },
  {
   "cell_type": "code",
   "execution_count": 9,
   "metadata": {},
   "outputs": [
    {
     "name": "stdout",
     "output_type": "stream",
     "text": [
      "X and y sizes, respectively: 284807 284807\n",
      "Train and test sizes, respectively: 185124 185124 | 99683 99683\n",
      "Total number of frauds: 492 0.001727485630620034\n",
      "Number of frauds on y_test: 154 0.0015448973245187243\n",
      "Number of frauds on y_train: 338 0.0018258032453922777\n"
     ]
    }
   ],
   "source": [
    "X = df.iloc[:,:-1]\n",
    "y = df['Class']\n",
    "\n",
    "print(\"X and y sizes, respectively:\", len(X), len(y))\n",
    "\n",
    "X_train, X_test, y_train, y_test = train_test_split(X, y, test_size=0.35)\n",
    "print(\"Train and test sizes, respectively:\", len(X_train), len(y_train), \"|\", len(X_test), len(y_test))\n",
    "print(\"Total number of frauds:\", len(y.loc[df['Class'] == 1]), len(y.loc[df['Class'] == 1])/len(y))\n",
    "print(\"Number of frauds on y_test:\", len(y_test.loc[df['Class'] == 1]), len(y_test.loc[df['Class'] == 1]) / len(y_test))\n",
    "print(\"Number of frauds on y_train:\", len(y_train.loc[df['Class'] == 1]), len(y_train.loc[df['Class'] == 1])/len(y_train))"
   ]
  },
  {
   "cell_type": "code",
   "execution_count": 10,
   "metadata": {},
   "outputs": [
    {
     "name": "stdout",
     "output_type": "stream",
     "text": [
      "Score:  0.998966724517\n"
     ]
    }
   ],
   "source": [
    "logistic = linear_model.LogisticRegression(C=1e5)\n",
    "logistic.fit(X_train, y_train)\n",
    "print(\"Score: \", logistic.score(X_test, y_test))"
   ]
  },
  {
   "cell_type": "code",
   "execution_count": 11,
   "metadata": {},
   "outputs": [],
   "source": [
    "y_predicted = np.array(logistic.predict(X_test))\n",
    "y_right = np.array(y_test)"
   ]
  },
  {
   "cell_type": "code",
   "execution_count": 12,
   "metadata": {},
   "outputs": [
    {
     "name": "stdout",
     "output_type": "stream",
     "text": [
      "Confusion matrix:\n",
      "Predicted      0    1  __all__\n",
      "Actual                        \n",
      "0          99486   43    99529\n",
      "1             60   94      154\n",
      "__all__    99546  137    99683\n"
     ]
    },
    {
     "data": {
      "image/png": "[encoded data removed]",
      "text/plain": [
       "<matplotlib.figure.Figure at 0x118dec668>"
      ]
     },
     "metadata": {},
     "output_type": "display_data"
    },
    {
     "name": "stdout",
     "output_type": "stream",
     "text": [
      "population: 99683\n",
      "P: 154\n",
      "N: 99529\n",
      "PositiveTest: 137\n",
      "NegativeTest: 99546\n",
      "TP: 94\n",
      "TN: 99486\n",
      "FP: 43\n",
      "FN: 60\n",
      "TPR: 0.61038961039\n",
      "TNR: 0.999567965116\n",
      "PPV: 0.686131386861\n",
      "NPV: 0.999397263577\n",
      "FPR: 0.000432034884305\n",
      "FDR: 0.313868613139\n",
      "FNR: 0.38961038961\n",
      "ACC: 0.998966724517\n",
      "F1_score: 0.646048109966\n",
      "MCC: 0.646640080385\n",
      "informedness: 0.609957575505\n",
      "markedness: 0.685528650438\n",
      "prevalence: 0.00154489732452\n",
      "LRP: 1412.82482634\n",
      "LRN: 0.389778787644\n",
      "DOR: 3624.68372093\n",
      "FOR: 0.000602736423362\n"
     ]
    }
   ],
   "source": [
    "confusion_matrix = ConfusionMatrix(y_right, y_predicted)\n",
    "print(\"Confusion matrix:\\n%s\" % confusion_matrix)\n",
    "confusion_matrix.plot(normalized=True)\n",
    "plt.show()\n",
    "confusion_matrix.print_stats()"
   ]
  },
  {
   "cell_type": "code",
   "execution_count": 13,
   "metadata": {},
   "outputs": [
    {
     "name": "stdout",
     "output_type": "stream",
     "text": [
      "FNR is 0.38961038961038963\n"
     ]
    }
   ],
   "source": [
    "print(\"FNR is {0}\".format(confusion_matrix.stats()['FNR']))"
   ]
  },
  {
   "cell_type": "markdown",
   "metadata": {},
   "source": [
    "# Logistic Regression with balanced class weights"
   ]
  },
  {
   "cell_type": "code",
   "execution_count": 19,
   "metadata": {},
   "outputs": [
    {
     "name": "stdout",
     "output_type": "stream",
     "text": [
      "Best C is 5315.534060359721 with best FNR of 0.09740259740259741.\n"
     ]
    }
   ],
   "source": [
    "best_c, best_fnr = 1, 1\n",
    "for _ in range(20):\n",
    "    c = random.uniform(1, 10000)\n",
    "    logistic = linear_model.LogisticRegression(C=c, class_weight=\"balanced\")\n",
    "    logistic.fit(X_train, y_train)\n",
    "    #print(\"Score: \", logistic.score(X_test, y_test))\n",
    "    y_predicted2 = np.array(logistic.predict(X_test))\n",
    "    y_right2 = np.array(y_test)\n",
    "    confusion_matrix2 = ConfusionMatrix(y_right2, y_predicted2)\n",
    "    #print(\"Confusion matrix:\\n%s\" % confusion_matrix2)\n",
    "    #confusion_matrix2.plot(normalized=True)\n",
    "    #plt.show()\n",
    "    #confusion_matrix2.print_stats()\n",
    "    fnr = confusion_matrix2.stats()['FNR']\n",
    "    if fnr < best_fnr:\n",
    "        best_fnr = fnr\n",
    "        best_c = c\n",
    "print(\"Best C is {0} with best FNR of {1}.\".format(best_c, best_fnr))"
   ]
  },
  {
   "cell_type": "code",
   "execution_count": null,
   "metadata": {
    "collapsed": true
   },
   "outputs": [],
   "source": []
  }
 ],
 "metadata": {
  "anaconda-cloud": {},
  "kernelspec": {
   "display_name": "Python 3",
   "language": "python",
   "name": "python3"
  },
  "language_info": {
   "codemirror_mode": {
    "name": "ipython",
    "version": 3
   },
   "file_extension": ".py",
   "mimetype": "text/x-python",
   "name": "python",
   "nbconvert_exporter": "python",
   "pygments_lexer": "ipython3",
   "version": "3.6.4"
  }
 },
 "nbformat": 4,
 "nbformat_minor": 1
}
